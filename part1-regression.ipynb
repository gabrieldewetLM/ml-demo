{
 "cells": [
  {
   "cell_type": "markdown",
   "metadata": {},
   "source": [
    "# Part 1: Regression in scikit-learn\n",
    "1. Loading & exploring data\n",
    "2. Model fitting \n",
    "    1. Entire data set\n",
    "    2. Train vs Test split \n",
    "3. Other models for regression\n",
    "4. Evaluating & comparing models\n",
    "    1. Metrics\n",
    "    2. Cross validation\n",
    "---"
   ]
  },
  {
   "cell_type": "markdown",
   "metadata": {},
   "source": [
    "## 1. Load data & visualise"
   ]
  },
  {
   "cell_type": "code",
   "execution_count": 1,
   "metadata": {},
   "outputs": [],
   "source": [
    "# import data analysis library\n",
    "import pandas as pd"
   ]
  },
  {
   "cell_type": "code",
   "execution_count": 2,
   "metadata": {},
   "outputs": [
    {
     "data": {
      "text/html": [
       "<div>\n",
       "<style scoped>\n",
       "    .dataframe tbody tr th:only-of-type {\n",
       "        vertical-align: middle;\n",
       "    }\n",
       "\n",
       "    .dataframe tbody tr th {\n",
       "        vertical-align: top;\n",
       "    }\n",
       "\n",
       "    .dataframe thead th {\n",
       "        text-align: right;\n",
       "    }\n",
       "</style>\n",
       "<table border=\"1\" class=\"dataframe\">\n",
       "  <thead>\n",
       "    <tr style=\"text-align: right;\">\n",
       "      <th></th>\n",
       "      <th>TV</th>\n",
       "      <th>radio</th>\n",
       "      <th>newspaper</th>\n",
       "      <th>sales</th>\n",
       "    </tr>\n",
       "  </thead>\n",
       "  <tbody>\n",
       "    <tr>\n",
       "      <th>1</th>\n",
       "      <td>230.1</td>\n",
       "      <td>37.8</td>\n",
       "      <td>69.2</td>\n",
       "      <td>22.1</td>\n",
       "    </tr>\n",
       "    <tr>\n",
       "      <th>2</th>\n",
       "      <td>44.5</td>\n",
       "      <td>39.3</td>\n",
       "      <td>45.1</td>\n",
       "      <td>10.4</td>\n",
       "    </tr>\n",
       "    <tr>\n",
       "      <th>3</th>\n",
       "      <td>17.2</td>\n",
       "      <td>45.9</td>\n",
       "      <td>69.3</td>\n",
       "      <td>9.3</td>\n",
       "    </tr>\n",
       "    <tr>\n",
       "      <th>4</th>\n",
       "      <td>151.5</td>\n",
       "      <td>41.3</td>\n",
       "      <td>58.5</td>\n",
       "      <td>18.5</td>\n",
       "    </tr>\n",
       "    <tr>\n",
       "      <th>5</th>\n",
       "      <td>180.8</td>\n",
       "      <td>10.8</td>\n",
       "      <td>58.4</td>\n",
       "      <td>12.9</td>\n",
       "    </tr>\n",
       "  </tbody>\n",
       "</table>\n",
       "</div>"
      ],
      "text/plain": [
       "      TV  radio  newspaper  sales\n",
       "1  230.1   37.8       69.2   22.1\n",
       "2   44.5   39.3       45.1   10.4\n",
       "3   17.2   45.9       69.3    9.3\n",
       "4  151.5   41.3       58.5   18.5\n",
       "5  180.8   10.8       58.4   12.9"
      ]
     },
     "execution_count": 2,
     "metadata": {},
     "output_type": "execute_result"
    }
   ],
   "source": [
    "# Read in data\n",
    "df = pd.read_csv(\"http://faculty.marshall.usc.edu/gareth-james/ISL/Advertising.csv\", index_col=0)\n",
    "\n",
    "# show first five rows\n",
    "df.head()"
   ]
  },
  {
   "cell_type": "code",
   "execution_count": 3,
   "metadata": {},
   "outputs": [
    {
     "data": {
      "text/plain": [
       "TV           float64\n",
       "radio        float64\n",
       "newspaper    float64\n",
       "sales        float64\n",
       "dtype: object"
      ]
     },
     "execution_count": 3,
     "metadata": {},
     "output_type": "execute_result"
    }
   ],
   "source": [
    "# data types for each column\n",
    "df.dtypes"
   ]
  },
  {
   "cell_type": "code",
   "execution_count": 4,
   "metadata": {},
   "outputs": [
    {
     "data": {
      "text/plain": [
       "(200, 4)"
      ]
     },
     "execution_count": 4,
     "metadata": {},
     "output_type": "execute_result"
    }
   ],
   "source": [
    "# dataset dimensions\n",
    "df.shape"
   ]
  },
  {
   "cell_type": "markdown",
   "metadata": {},
   "source": [
    "### Dataset overview\n",
    "Consists of sales numbers for a particular product in 200 different markets, along with advertising budgets for 3 different media channels.\n",
    "\n",
    "Input features/variables (advertising budgets):\n",
    "- **TV** - 1000s of dollars\n",
    "- **radio** - 1000s of dollars\n",
    "- **newspaper** - 1000s of dollars\n",
    "\n",
    "Output/repsonse variable:\n",
    "- **sales** - 1000s of units\n",
    "\n",
    "**Goal**: Predict sales given advertising budgets"
   ]
  },
  {
   "cell_type": "code",
   "execution_count": 5,
   "metadata": {},
   "outputs": [],
   "source": [
    "# import library for plotting\n",
    "import seaborn as sns\n",
    "\n",
    "# allow plots to appear in notebook\n",
    "%matplotlib inline"
   ]
  },
  {
   "cell_type": "code",
   "execution_count": 6,
   "metadata": {},
   "outputs": [
    {
     "data": {
      "text/plain": [
       "<seaborn.axisgrid.PairGrid at 0x1e884fc67b8>"
      ]
     },
     "execution_count": 6,
     "metadata": {},
     "output_type": "execute_result"
    },
    {
     "data": {
      "image/png": "[encoded data removed]",
      "text/plain": [
       "<Figure size 756x360 with 3 Axes>"
      ]
     },
     "metadata": {
      "needs_background": "light"
     },
     "output_type": "display_data"
    }
   ],
   "source": [
    "# visualize the relationship between the features and the response using scatterplots\n",
    "sns.pairplot(df, x_vars=['TV','radio','newspaper'], y_vars='sales', height=5, aspect=0.7, kind='reg')"
   ]
  },
  {
   "cell_type": "markdown",
   "metadata": {},
   "source": [
    "---\n",
    "## 2. Fit model\n",
    "### Linear regression\n",
    "\n",
    "$y = \\beta_0 + \\beta_1x_1 + \\beta_2x_2  + \\beta_3x_3$\n",
    "\n",
    "- $y$ is the response (**sales**)\n",
    "- $\\beta_0$ is the intercept\n",
    "- $\\beta_1$ is the coefficient for $x_1$ (**TV**)\n",
    "- $\\beta_2$ is the coefficient for $x_2$ (**radio**)\n",
    "- $\\beta_3$ is the coefficient for $x_3$ (**newspaper**)\n",
    "\n",
    "Therefore:\n",
    "\n",
    "$y = \\beta_0 + \\beta_1 \\times TV + \\beta_2 \\times radio + \\beta_3 \\times newspaper$"
   ]
  },
  {
   "cell_type": "code",
   "execution_count": 7,
   "metadata": {},
   "outputs": [],
   "source": [
    "# import necessary libraries\n",
    "from sklearn.linear_model import LinearRegression  # general ML library\n",
    "import statsmodels.formula.api as smf  # statistical modelling library - more user friendly ouptut (similar to R)"
   ]
  },
  {
   "cell_type": "code",
   "execution_count": 8,
   "metadata": {},
   "outputs": [
    {
     "name": "stdout",
     "output_type": "stream",
     "text": [
      "X dimensions: (200, 3)\n"
     ]
    },
    {
     "data": {
      "text/html": [
       "<div>\n",
       "<style scoped>\n",
       "    .dataframe tbody tr th:only-of-type {\n",
       "        vertical-align: middle;\n",
       "    }\n",
       "\n",
       "    .dataframe tbody tr th {\n",
       "        vertical-align: top;\n",
       "    }\n",
       "\n",
       "    .dataframe thead th {\n",
       "        text-align: right;\n",
       "    }\n",
       "</style>\n",
       "<table border=\"1\" class=\"dataframe\">\n",
       "  <thead>\n",
       "    <tr style=\"text-align: right;\">\n",
       "      <th></th>\n",
       "      <th>TV</th>\n",
       "      <th>radio</th>\n",
       "      <th>newspaper</th>\n",
       "    </tr>\n",
       "  </thead>\n",
       "  <tbody>\n",
       "    <tr>\n",
       "      <th>1</th>\n",
       "      <td>230.1</td>\n",
       "      <td>37.8</td>\n",
       "      <td>69.2</td>\n",
       "    </tr>\n",
       "    <tr>\n",
       "      <th>2</th>\n",
       "      <td>44.5</td>\n",
       "      <td>39.3</td>\n",
       "      <td>45.1</td>\n",
       "    </tr>\n",
       "    <tr>\n",
       "      <th>3</th>\n",
       "      <td>17.2</td>\n",
       "      <td>45.9</td>\n",
       "      <td>69.3</td>\n",
       "    </tr>\n",
       "    <tr>\n",
       "      <th>4</th>\n",
       "      <td>151.5</td>\n",
       "      <td>41.3</td>\n",
       "      <td>58.5</td>\n",
       "    </tr>\n",
       "    <tr>\n",
       "      <th>5</th>\n",
       "      <td>180.8</td>\n",
       "      <td>10.8</td>\n",
       "      <td>58.4</td>\n",
       "    </tr>\n",
       "  </tbody>\n",
       "</table>\n",
       "</div>"
      ],
      "text/plain": [
       "      TV  radio  newspaper\n",
       "1  230.1   37.8       69.2\n",
       "2   44.5   39.3       45.1\n",
       "3   17.2   45.9       69.3\n",
       "4  151.5   41.3       58.5\n",
       "5  180.8   10.8       58.4"
      ]
     },
     "execution_count": 8,
     "metadata": {},
     "output_type": "execute_result"
    }
   ],
   "source": [
    "# list of input variables\n",
    "x_cols = ['TV', 'radio', 'newspaper']\n",
    "\n",
    "# use x_cols list to select subset from df\n",
    "x = df[x_cols]\n",
    "\n",
    "# print dimensions of x\n",
    "print(\"X dimensions:\", x.shape)\n",
    "\n",
    "# display first 5 rows of x\n",
    "x.head()"
   ]
  },
  {
   "cell_type": "code",
   "execution_count": 9,
   "metadata": {},
   "outputs": [
    {
     "name": "stdout",
     "output_type": "stream",
     "text": [
      "(200,)\n"
     ]
    },
    {
     "data": {
      "text/plain": [
       "1    22.1\n",
       "2    10.4\n",
       "3     9.3\n",
       "4    18.5\n",
       "5    12.9\n",
       "Name: sales, dtype: float64"
      ]
     },
     "execution_count": 9,
     "metadata": {},
     "output_type": "execute_result"
    }
   ],
   "source": [
    "# specify target/response variable y\n",
    "y = df['sales']\n",
    "\n",
    "# print dimensions of y\n",
    "print(y.shape)\n",
    "\n",
    "#display first 5 rows\n",
    "y.head()"
   ]
  },
  {
   "cell_type": "markdown",
   "metadata": {},
   "source": [
    "### A. Fit on all observations"
   ]
  },
  {
   "cell_type": "code",
   "execution_count": 10,
   "metadata": {},
   "outputs": [
    {
     "data": {
      "text/plain": [
       "Intercept    2.938889\n",
       "TV           0.045765\n",
       "radio        0.188530\n",
       "newspaper   -0.001037\n",
       "dtype: float64"
      ]
     },
     "execution_count": 10,
     "metadata": {},
     "output_type": "execute_result"
    }
   ],
   "source": [
    "# Fit statsmodels version - similar syntax to R\n",
    "lm1 = smf.ols(formula='sales ~ TV + radio + newspaper', data=df).fit()\n",
    "\n",
    "# display coefficients\n",
    "lm1.params"
   ]
  },
  {
   "cell_type": "code",
   "execution_count": 11,
   "metadata": {},
   "outputs": [
    {
     "name": "stdout",
     "output_type": "stream",
     "text": [
      "Intercept: 2.938889369459412\n"
     ]
    },
    {
     "data": {
      "text/plain": [
       "{'TV': 0.0457646454553976,\n",
       " 'radio': 0.18853001691820442,\n",
       " 'newspaper': -0.0010374930424763285}"
      ]
     },
     "execution_count": 11,
     "metadata": {},
     "output_type": "execute_result"
    }
   ],
   "source": [
    "# Fit scikit-learn version\n",
    "lm2 = LinearRegression()\n",
    "lm2.fit(x, y)\n",
    "\n",
    "# print coefficients\n",
    "print(\"Intercept:\", lm2.intercept_)\n",
    "dict(zip(x_cols, lm2.coef_))"
   ]
  },
  {
   "cell_type": "markdown",
   "metadata": {},
   "source": [
    "#### Fitted model on all observations:\n",
    "$y = 2.938889 + 0.045765 \\times TV + 0.188530 \\times radio - 0.001037 \\times newspaper$\n",
    "\n",
    "#### Statsmodels summary"
   ]
  },
  {
   "cell_type": "code",
   "execution_count": 12,
   "metadata": {},
   "outputs": [
    {
     "data": {
      "text/html": [
       "<table class=\"simpletable\">\n",
       "<caption>OLS Regression Results</caption>\n",
       "<tr>\n",
       "  <th>Dep. Variable:</th>          <td>sales</td>      <th>  R-squared:         </th> <td>   0.897</td>\n",
       "</tr>\n",
       "<tr>\n",
       "  <th>Model:</th>                   <td>OLS</td>       <th>  Adj. R-squared:    </th> <td>   0.896</td>\n",
       "</tr>\n",
       "<tr>\n",
       "  <th>Method:</th>             <td>Least Squares</td>  <th>  F-statistic:       </th> <td>   570.3</td>\n",
       "</tr>\n",
       "<tr>\n",
       "  <th>Date:</th>             <td>Tue, 15 Sep 2020</td> <th>  Prob (F-statistic):</th> <td>1.58e-96</td>\n",
       "</tr>\n",
       "<tr>\n",
       "  <th>Time:</th>                 <td>10:58:54</td>     <th>  Log-Likelihood:    </th> <td> -386.18</td>\n",
       "</tr>\n",
       "<tr>\n",
       "  <th>No. Observations:</th>      <td>   200</td>      <th>  AIC:               </th> <td>   780.4</td>\n",
       "</tr>\n",
       "<tr>\n",
       "  <th>Df Residuals:</th>          <td>   196</td>      <th>  BIC:               </th> <td>   793.6</td>\n",
       "</tr>\n",
       "<tr>\n",
       "  <th>Df Model:</th>              <td>     3</td>      <th>                     </th>     <td> </td>   \n",
       "</tr>\n",
       "<tr>\n",
       "  <th>Covariance Type:</th>      <td>nonrobust</td>    <th>                     </th>     <td> </td>   \n",
       "</tr>\n",
       "</table>\n",
       "<table class=\"simpletable\">\n",
       "<tr>\n",
       "      <td></td>         <th>coef</th>     <th>std err</th>      <th>t</th>      <th>P>|t|</th>  <th>[0.025</th>    <th>0.975]</th>  \n",
       "</tr>\n",
       "<tr>\n",
       "  <th>Intercept</th> <td>    2.9389</td> <td>    0.312</td> <td>    9.422</td> <td> 0.000</td> <td>    2.324</td> <td>    3.554</td>\n",
       "</tr>\n",
       "<tr>\n",
       "  <th>TV</th>        <td>    0.0458</td> <td>    0.001</td> <td>   32.809</td> <td> 0.000</td> <td>    0.043</td> <td>    0.049</td>\n",
       "</tr>\n",
       "<tr>\n",
       "  <th>radio</th>     <td>    0.1885</td> <td>    0.009</td> <td>   21.893</td> <td> 0.000</td> <td>    0.172</td> <td>    0.206</td>\n",
       "</tr>\n",
       "<tr>\n",
       "  <th>newspaper</th> <td>   -0.0010</td> <td>    0.006</td> <td>   -0.177</td> <td> 0.860</td> <td>   -0.013</td> <td>    0.011</td>\n",
       "</tr>\n",
       "</table>\n",
       "<table class=\"simpletable\">\n",
       "<tr>\n",
       "  <th>Omnibus:</th>       <td>60.414</td> <th>  Durbin-Watson:     </th> <td>   2.084</td>\n",
       "</tr>\n",
       "<tr>\n",
       "  <th>Prob(Omnibus):</th> <td> 0.000</td> <th>  Jarque-Bera (JB):  </th> <td> 151.241</td>\n",
       "</tr>\n",
       "<tr>\n",
       "  <th>Skew:</th>          <td>-1.327</td> <th>  Prob(JB):          </th> <td>1.44e-33</td>\n",
       "</tr>\n",
       "<tr>\n",
       "  <th>Kurtosis:</th>      <td> 6.332</td> <th>  Cond. No.          </th> <td>    454.</td>\n",
       "</tr>\n",
       "</table><br/><br/>Warnings:<br/>[1] Standard Errors assume that the covariance matrix of the errors is correctly specified."
      ],
      "text/plain": [
       "<class 'statsmodels.iolib.summary.Summary'>\n",
       "\"\"\"\n",
       "                            OLS Regression Results                            \n",
       "==============================================================================\n",
       "Dep. Variable:                  sales   R-squared:                       0.897\n",
       "Model:                            OLS   Adj. R-squared:                  0.896\n",
       "Method:                 Least Squares   F-statistic:                     570.3\n",
       "Date:                Tue, 15 Sep 2020   Prob (F-statistic):           1.58e-96\n",
       "Time:                        10:58:54   Log-Likelihood:                -386.18\n",
       "No. Observations:                 200   AIC:                             780.4\n",
       "Df Residuals:                     196   BIC:                             793.6\n",
       "Df Model:                           3                                         \n",
       "Covariance Type:            nonrobust                                         \n",
       "==============================================================================\n",
       "                 coef    std err          t      P>|t|      [0.025      0.975]\n",
       "------------------------------------------------------------------------------\n",
       "Intercept      2.9389      0.312      9.422      0.000       2.324       3.554\n",
       "TV             0.0458      0.001     32.809      0.000       0.043       0.049\n",
       "radio          0.1885      0.009     21.893      0.000       0.172       0.206\n",
       "newspaper     -0.0010      0.006     -0.177      0.860      -0.013       0.011\n",
       "==============================================================================\n",
       "Omnibus:                       60.414   Durbin-Watson:                   2.084\n",
       "Prob(Omnibus):                  0.000   Jarque-Bera (JB):              151.241\n",
       "Skew:                          -1.327   Prob(JB):                     1.44e-33\n",
       "Kurtosis:                       6.332   Cond. No.                         454.\n",
       "==============================================================================\n",
       "\n",
       "Warnings:\n",
       "[1] Standard Errors assume that the covariance matrix of the errors is correctly specified.\n",
       "\"\"\""
      ]
     },
     "execution_count": 12,
     "metadata": {},
     "output_type": "execute_result"
    }
   ],
   "source": [
    "# print a summary of the fitted model\n",
    "lm1.summary()"
   ]
  },
  {
   "cell_type": "markdown",
   "metadata": {},
   "source": [
    "#### Predicting with both modelling approaches"
   ]
  },
  {
   "cell_type": "code",
   "execution_count": 13,
   "metadata": {},
   "outputs": [
    {
     "data": {
      "text/plain": [
       "1    20.523974\n",
       "2    12.337855\n",
       "3    12.307671\n",
       "4    17.597830\n",
       "5    13.188672\n",
       "dtype: float64"
      ]
     },
     "execution_count": 13,
     "metadata": {},
     "output_type": "execute_result"
    }
   ],
   "source": [
    "# Predicting with lm1\n",
    "lm1.predict(x.iloc[:5])"
   ]
  },
  {
   "cell_type": "code",
   "execution_count": 14,
   "metadata": {},
   "outputs": [
    {
     "data": {
      "text/plain": [
       "array([20.52397441, 12.33785482, 12.30767078, 17.59782951, 13.18867186])"
      ]
     },
     "execution_count": 14,
     "metadata": {},
     "output_type": "execute_result"
    }
   ],
   "source": [
    "# Predicting with lm2\n",
    "lm2.predict(x.iloc[:5])"
   ]
  },
  {
   "cell_type": "markdown",
   "metadata": {},
   "source": [
    "### B. Train vs Test split\n",
    "---\n",
    "How do we evaluate and compare multiple regression approaches to find the best suited model?\n",
    "- Evaluate models on out-of-sample observations, i.e. observations not used at model fitting stage. \n",
    "- Randomly split the data between train and test samples\n",
    "    - Fit models on train observations\n",
    "    - Evaluate on test (out-of-sample) observations\n",
    "- Compare RMSE on test set for each model - more reliable indicator of preformance\n",
    "- Will use scikit-learn library exlcusively from here on out (contains other ML models for comparison)"
   ]
  },
  {
   "cell_type": "code",
   "execution_count": 15,
   "metadata": {},
   "outputs": [],
   "source": [
    "import numpy as np  # library for mathematical computation\n",
    "from sklearn.metrics import r2_score, mean_squared_error, make_scorer  # function to calculate MSE\n",
    "from sklearn.model_selection import train_test_split  # Function to randomly split data between train & test"
   ]
  },
  {
   "cell_type": "code",
   "execution_count": 16,
   "metadata": {},
   "outputs": [],
   "source": [
    "# split data into 80% train, 20% split randomly sampled\n",
    "x_train, x_test, y_train, y_test = train_test_split(x, y, train_size=0.8, random_state=27)"
   ]
  },
  {
   "cell_type": "code",
   "execution_count": 17,
   "metadata": {},
   "outputs": [
    {
     "name": "stdout",
     "output_type": "stream",
     "text": [
      "(160, 3)\n",
      "(160,)\n",
      "(40, 3)\n",
      "(40,)\n"
     ]
    }
   ],
   "source": [
    "# default split is 75% for training and 25% for testing\n",
    "print(x_train.shape)\n",
    "print(y_train.shape)\n",
    "print(x_test.shape)\n",
    "print(y_test.shape)"
   ]
  },
  {
   "cell_type": "code",
   "execution_count": 18,
   "metadata": {},
   "outputs": [
    {
     "data": {
      "text/plain": [
       "<seaborn.axisgrid.PairGrid at 0x1e888a98cc0>"
      ]
     },
     "execution_count": 18,
     "metadata": {},
     "output_type": "execute_result"
    },
    {
     "data": {
      "image/png": "[encoded data removed]",
      "text/plain": [
       "<Figure size 1356x432 with 3 Axes>"
      ]
     },
     "metadata": {
      "needs_background": "light"
     },
     "output_type": "display_data"
    }
   ],
   "source": [
    "# plot train vs test split\n",
    "x_1 = x_train.copy()\n",
    "x_1['Set'] = 'Train'\n",
    "x_2 = x_test.copy()\n",
    "x_2['Set'] = 'Test'\n",
    "\n",
    "# combine back together\n",
    "plot_df = pd.concat([pd.concat([x_1, x_2]), pd.concat([y_train, y_test])], axis=1)\n",
    "sns.pairplot(plot_df, x_vars=['TV','radio', 'newspaper'], y_vars='sales', hue='Set', height=6, aspect=1)"
   ]
  },
  {
   "cell_type": "code",
   "execution_count": 19,
   "metadata": {},
   "outputs": [
    {
     "name": "stdout",
     "output_type": "stream",
     "text": [
      "R-Squared (train): 0.8947281937728894\n",
      "RMSE (train): 1.7094679934884642\n",
      "========================================\n",
      "R-Squared (test): 0.9064360707520687\n",
      "RMSE (test): 1.509772764601027\n"
     ]
    }
   ],
   "source": [
    "# Fit model om train\n",
    "lm = LinearRegression()\n",
    "lm.fit(x_train, y_train)\n",
    "\n",
    "# R-square & RMSE train\n",
    "print(\"R-Squared (train):\", r2_score(y_train, lm.predict(x_train)))\n",
    "print(\"RMSE (train):\", np.sqrt(mean_squared_error(y_train, lm.predict(x_train))))\n",
    "print(\"=\"*40)\n",
    "\n",
    "# R-square & RMSE test\n",
    "print(\"R-Squared (test):\", r2_score(y_test, lm.predict(x_test)))\n",
    "print(\"RMSE (test):\", np.sqrt(mean_squared_error(y_test, lm.predict(x_test))))"
   ]
  },
  {
   "cell_type": "markdown",
   "metadata": {},
   "source": [
    "---\n",
    "## 3. Other Models\n",
    "- Linear Support vector regression\n",
    "- Polynomial Support vector regression\n",
    "- Gradient boosting regression"
   ]
  },
  {
   "cell_type": "code",
   "execution_count": 20,
   "metadata": {},
   "outputs": [],
   "source": [
    "# import other regression models\n",
    "from sklearn.svm import SVR\n",
    "from sklearn.ensemble import GradientBoostingRegressor"
   ]
  },
  {
   "cell_type": "code",
   "execution_count": 21,
   "metadata": {},
   "outputs": [
    {
     "name": "stdout",
     "output_type": "stream",
     "text": [
      "R-Squared (LinearSVR): 0.9054730738111912\n",
      "RMSE (LinearSVR): 1.51752246392084\n"
     ]
    }
   ],
   "source": [
    "# Fit linear SVR\n",
    "lin_svr = SVR(kernel='linear', epsilon=.1, coef0=1)\n",
    "lin_svr.fit(x_train, y_train)\n",
    "\n",
    "# R-square & RMSE test\n",
    "print(\"R-Squared (LinearSVR):\", r2_score(y_test, lin_svr.predict(x_test)))\n",
    "print(\"RMSE (LinearSVR):\", np.sqrt(mean_squared_error(y_test, lin_svr.predict(x_test))))"
   ]
  },
  {
   "cell_type": "code",
   "execution_count": 22,
   "metadata": {},
   "outputs": [
    {
     "name": "stdout",
     "output_type": "stream",
     "text": [
      "R-Squared (PolySVR): 0.9845989170172499\n",
      "RMSE (PolySVR): 0.6125379365672433\n"
     ]
    }
   ],
   "source": [
    "# Fit polynomial SVR\n",
    "poly_svr = SVR(kernel='poly', degree=2, epsilon=.1, coef0=1)\n",
    "poly_svr.fit(x_train, y_train)\n",
    "\n",
    "# R-square & RMSE test\n",
    "print(\"R-Squared (PolySVR):\", r2_score(y_test, poly_svr.predict(x_test)))\n",
    "print(\"RMSE (PolySVR):\", np.sqrt(mean_squared_error(y_test, poly_svr.predict(x_test))))"
   ]
  },
  {
   "cell_type": "code",
   "execution_count": 23,
   "metadata": {},
   "outputs": [
    {
     "name": "stdout",
     "output_type": "stream",
     "text": [
      "R-Squared (GBM): 0.9821441890112764\n",
      "RMSE (GBM): 0.6595491284873202\n"
     ]
    }
   ],
   "source": [
    "# Fit SVR\n",
    "gbm = GradientBoostingRegressor()\n",
    "gbm.fit(x_train, y_train)\n",
    "\n",
    "# R-square & RMSE test\n",
    "print(\"R-Squared (GBM):\", r2_score(y_test, gbm.predict(x_test)))\n",
    "print(\"RMSE (GBM):\", np.sqrt(mean_squared_error(y_test, gbm.predict(x_test))))"
   ]
  },
  {
   "cell_type": "code",
   "execution_count": 24,
   "metadata": {},
   "outputs": [
    {
     "name": "stdout",
     "output_type": "stream",
     "text": [
      "R-Squared (Linear regression):\t 0.9064360707520687\n",
      "RMSE (Linear regression):\t 1.509772764601027\n",
      "===================================================\n",
      "R-Squared (LinearSVR):\t\t 0.9054730738111912\n",
      "RMSE (LinearSVR):\t\t 1.51752246392084\n",
      "===================================================\n",
      "R-Squared (PolySVR):\t\t 0.9845989170172499\n",
      "RMSE (PolySVR):\t\t\t 0.6125379365672433\n",
      "===================================================\n",
      "R-Squared (GBM):\t\t 0.9821441890112764\n",
      "RMSE (GBM):\t\t\t 0.6595491284873202\n"
     ]
    }
   ],
   "source": [
    "# evaluate all\n",
    "print(\"R-Squared (Linear regression):\\t\", r2_score(y_test, lm.predict(x_test)))\n",
    "print(\"RMSE (Linear regression):\\t\", np.sqrt(mean_squared_error(y_test, lm.predict(x_test))))\n",
    "print(\"=\"*51)\n",
    "\n",
    "print(\"R-Squared (LinearSVR):\\t\\t\", r2_score(y_test, lin_svr.predict(x_test)))\n",
    "print(\"RMSE (LinearSVR):\\t\\t\", np.sqrt(mean_squared_error(y_test, lin_svr.predict(x_test))))\n",
    "print(\"=\"*51)\n",
    "\n",
    "print(\"R-Squared (PolySVR):\\t\\t\", r2_score(y_test, poly_svr.predict(x_test)))\n",
    "print(\"RMSE (PolySVR):\\t\\t\\t\", np.sqrt(mean_squared_error(y_test, poly_svr.predict(x_test))))\n",
    "print(\"=\"*51)\n",
    "\n",
    "print(\"R-Squared (GBM):\\t\\t\", r2_score(y_test, gbm.predict(x_test)))\n",
    "print(\"RMSE (GBM):\\t\\t\\t\", np.sqrt(mean_squared_error(y_test, gbm.predict(x_test))))"
   ]
  },
  {
   "cell_type": "markdown",
   "metadata": {},
   "source": [
    "---\n",
    "## 4. Evaluation & Model comparison\n",
    "- Metrics\n",
    "    - R-Squared & RMSE\n",
    "- Cross-Validation\n",
    "    - Extension of out-of-sample evaluation\n",
    "    - Average performance of model over mutliple (k) random train-test splits\n",
    " \n",
    "### Steps for K-fold cross-validation\n",
    "1. Split the dataset into K **equal** partitions (or \"folds\").\n",
    "2. Use fold 1 as the **testing set** and the union of the other folds as the **training set**.\n",
    "3. Calculate **testing accuracy**.\n",
    "4. Repeat steps 2 and 3 K times, using a **different fold** as the testing set each time.\n",
    "5. Use the **average testing accuracy** as the estimate of out-of-sample accuracy.\n",
    "    "
   ]
  },
  {
   "cell_type": "markdown",
   "metadata": {},
   "source": [
    "Diagram of **5-fold cross-validation:**\n",
    "\n",
    "![5-fold cross-validation](images/07_cross_validation_diagram.png)\n",
    "\n",
    "[Source](https://github.com/justmarkham/scikit-learn-videos/blob/master/07_cross_validation.ipynb)"
   ]
  },
  {
   "cell_type": "code",
   "execution_count": 25,
   "metadata": {},
   "outputs": [],
   "source": [
    "# import necessary functions\n",
    "from sklearn.model_selection import cross_val_score"
   ]
  },
  {
   "cell_type": "code",
   "execution_count": 26,
   "metadata": {},
   "outputs": [],
   "source": [
    "# linear regression\n",
    "lm = LinearRegression()\n",
    "lm_r2 = cross_val_score(lm, x, y, cv=10, scoring='r2').mean()\n",
    "lm_rmse = cross_val_score(lm, x, y, cv=10, scoring=\"neg_root_mean_squared_error\").mean()*-1"
   ]
  },
  {
   "cell_type": "code",
   "execution_count": 27,
   "metadata": {},
   "outputs": [],
   "source": [
    "# linear SVR\n",
    "lin_svr = SVR(kernel='linear', epsilon=.1, coef0=1)\n",
    "lin_svr_r2 = cross_val_score(lin_svr, x, y, cv=10, scoring='r2').mean()\n",
    "lin_svr_rmse = cross_val_score(lin_svr, x, y, cv=10, scoring=\"neg_root_mean_squared_error\").mean()*-1"
   ]
  },
  {
   "cell_type": "code",
   "execution_count": 28,
   "metadata": {},
   "outputs": [],
   "source": [
    "# Poly SVR\n",
    "poly_svr = SVR(kernel='poly', degree=2, epsilon=.1, coef0=1)\n",
    "poly_svr_r2 = cross_val_score(poly_svr, x, y, cv=10, scoring='r2').mean()\n",
    "poly_svr_rmse = cross_val_score(poly_svr, x, y, cv=10, scoring=\"neg_root_mean_squared_error\").mean()*-1"
   ]
  },
  {
   "cell_type": "code",
   "execution_count": 29,
   "metadata": {},
   "outputs": [],
   "source": [
    "# linear regression\n",
    "gbm = GradientBoostingRegressor()\n",
    "gbm_r2 = cross_val_score(gbm, x, y, cv=10, scoring='r2').mean()\n",
    "gbm_rmse = cross_val_score(gbm, x, y, cv=10, scoring=\"neg_root_mean_squared_error\").mean()*-1"
   ]
  },
  {
   "cell_type": "code",
   "execution_count": 30,
   "metadata": {},
   "outputs": [
    {
     "name": "stdout",
     "output_type": "stream",
     "text": [
      "Mean R-Squared (Linear regression):\t 0.8853562237979616\n",
      "Mean RMSE (Linear regression):\t\t 1.6913531708051797\n",
      "===========================================================\n",
      "Mean R-Squared (LinearSVR):\t\t 0.8781934907475328\n",
      "Mean RMSE (LinearSVR):\t\t\t 1.7206112476159774\n",
      "===========================================================\n",
      "Mean R-Squared (PolySVR):\t\t 0.9801976355346618\n",
      "Mean RMSE (PolySVR):\t\t\t 0.6618882998575366\n",
      "===========================================================\n",
      "Mean R-Squared (GBM):\t\t\t 0.9810749997613455\n",
      "Mean RMSE (GBM):\t\t\t 0.6928552626679583\n"
     ]
    }
   ],
   "source": [
    "# Cross-validation results\n",
    "print(\"Mean R-Squared (Linear regression):\\t\", lm_r2)\n",
    "print(\"Mean RMSE (Linear regression):\\t\\t\", lm_rmse)\n",
    "print(\"=\"*59)\n",
    "\n",
    "print(\"Mean R-Squared (LinearSVR):\\t\\t\", lin_svr_r2)\n",
    "print(\"Mean RMSE (LinearSVR):\\t\\t\\t\", lin_svr_rmse)\n",
    "print(\"=\"*59)\n",
    "\n",
    "print(\"Mean R-Squared (PolySVR):\\t\\t\", poly_svr_r2)\n",
    "print(\"Mean RMSE (PolySVR):\\t\\t\\t\", poly_svr_rmse)\n",
    "print(\"=\"*59)\n",
    "\n",
    "print(\"Mean R-Squared (GBM):\\t\\t\\t\", gbm_r2)\n",
    "print(\"Mean RMSE (GBM):\\t\\t\\t\", gbm_rmse)"
   ]
  }
 ],
 "metadata": {
  "kernelspec": {
   "display_name": "Python 3",
   "language": "python",
   "name": "python3"
  },
  "language_info": {
   "codemirror_mode": {
    "name": "ipython",
    "version": 3
   },
   "file_extension": ".py",
   "mimetype": "text/x-python",
   "name": "python",
   "nbconvert_exporter": "python",
   "pygments_lexer": "ipython3",
   "version": "3.7.3"
  }
 },
 "nbformat": 4,
 "nbformat_minor": 4
}
