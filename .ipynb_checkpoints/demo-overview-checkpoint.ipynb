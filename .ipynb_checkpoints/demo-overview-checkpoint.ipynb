{
 "cells": [
  {
   "cell_type": "markdown",
   "metadata": {},
   "source": [
    "# <ins>Machine Learning Demo with Python</ins>\n",
    "\n",
    "## <ins>Resources & requirements</ins>\n",
    "### 1. Python - [Anaconda distribution](https://www.anaconda.com/products/individual), which includes:\n",
    "- Useful libraries, for example:\n",
    "    - Data analysis - [pandas](https://pandas.pydata.org)\n",
    "    - Statsitical modelling - [statsmodels](https://www.statsmodels.org/stable/index.html) \n",
    "    - Machine learning - [scikit-learn](https://scikit-learn.org/stable)\n",
    "    - Plotting - [seaborn](https://seaborn.pydata.org/index.html) \n",
    "- Development environments:\n",
    "    - [IPython and Jupyter Notebook](https://ipython.org/) (also supports R)\n",
    "    - [Spyder IDE](https://www.spyder-ide.org/) (Rstudio for python)\n",
    "\n",
    "### 2. Other development environments\n",
    "- Jupyter Lab (used for part 1 of demo)\n",
    "    - Install [intsructions](https://jupyter.org/install.html)\n",
    "- Visual Studio Code (used in part 2)\n",
    "    - Install [here](https://code.visualstudio.com/)\n",
    "        \n",
    "### 3. Other python packages\n",
    "- [Keras](https://keras.io/) & [Tensorflow](https://www.tensorflow.org/) - deep learning\n",
    "- [lifelines](https://lifelines.readthedocs.io/en/latest/) & [scikit-survival](https://scikit-survival.readthedocs.io/en/latest/) - survival analysis\n",
    "- [XGBoost](https://xgboost.readthedocs.io/en/latest/) & [LightGBM](https://lightgbm.readthedocs.io/en/latest/) - gradient boosting libraries \n",
    "\n",
    "### 4. Datasets\n",
    "- Regression example (Part 1)\n",
    "    - Advertising dataset from *An Introduction to Statistical Learning, with applications in R* - G. James, D. Witten,  T. Hastie and R. Tibshirani \n",
    "    - 300 observations with 3 input variables (TV, radio, newspaper) & single response variable (sales)\n",
    "    - Download [here](http://faculty.marshall.usc.edu/gareth-james/ISL/data.html)\n",
    "- Classification example (Part 2)\n",
    "    - Fashion MNIST, from *Fashion-MNIST: a Novel Image Dataset for Benchmarking Machine Learning Algorithms* - Han Xiao, Kashif Rasul, Roland Vollgraf [arXiv:1708.07747](https://arxiv.org/abs/1708.07747)\n",
    "    - Collection of 70 000, 28x28 images where each image belongs to one of 10 different classes.\n",
    "    - [Source](https://github.com/zalandoresearch/fashion-mnist)\n",
    "    \n",
    "---\n",
    "\n",
    "## <ins>Agenda</ins>\n",
    "### Part 1: Regression in scikit-learn\n",
    "1. Loading & exploring data\n",
    "2. Model fitting \n",
    "    1. Entire data set\n",
    "    2. Train vs Test split\n",
    "3. Other models for regression\n",
    "4. Evaluating & comparing models\n",
    "    1. Metrics\n",
    "    2. Cross validation\n",
    "\n",
    "### Part 2: Classification with CNN\n",
    "1. Image data introduction (Fashion MNIST)\n",
    "2. Data analysis & preprocessing\n",
    "3. Defining the network structure\n",
    "4. Model fitting:\n",
    "    1. Without regularization\n",
    "    2. With regularization\n",
    "5. Model evaluation on test set (classification report)\n",
    "---"
   ]
  }
 ],
 "metadata": {
  "kernelspec": {
   "display_name": "Python 3",
   "language": "python",
   "name": "python3"
  },
  "language_info": {
   "codemirror_mode": {
    "name": "ipython",
    "version": 3
   },
   "file_extension": ".py",
   "mimetype": "text/x-python",
   "name": "python",
   "nbconvert_exporter": "python",
   "pygments_lexer": "ipython3",
   "version": "3.7.3"
  }
 },
 "nbformat": 4,
 "nbformat_minor": 4
}
